{
 "cells": [
  {
   "cell_type": "markdown",
   "metadata": {},
   "source": [
    "## Image Classification\n",
    "Using convolutional neural networks to classify images"
   ]
  },
  {
   "cell_type": "code",
   "execution_count": 1,
   "metadata": {},
   "outputs": [],
   "source": [
    "import nerve\n",
    "import numpy as np\n",
    "import pandas as pd\n",
    "import matplotlib.pyplot as plt"
   ]
  },
  {
   "cell_type": "markdown",
   "metadata": {},
   "source": [
    "### Importing Data\n",
    "\n",
    "Using MNIST Data converted into a single channel image. ```nerve``` does support multichannel images though"
   ]
  },
  {
   "cell_type": "code",
   "execution_count": 2,
   "metadata": {},
   "outputs": [],
   "source": [
    "ims = 28\n",
    "chn = 1\n",
    "\n",
    "data = pd.read_csv('train.csv', nrows=20000)\n",
    "labels = data.pop('label')\n",
    "\n",
    "data = data/255 # scaling pixel values to 0-1\n",
    "data = data.values # converting to numpy array\n",
    "labels = labels.values.reshape(-1,1)\n",
    "labels = nerve.utils.one_hot(labels)"
   ]
  },
  {
   "cell_type": "code",
   "execution_count": 3,
   "metadata": {},
   "outputs": [
    {
     "data": {
      "text/plain": [
       "(20000, 28, 28, 1)"
      ]
     },
     "execution_count": 3,
     "metadata": {},
     "output_type": "execute_result"
    }
   ],
   "source": [
    "images = []\n",
    "for d in data:\n",
    "    images.append(d.reshape(28, 28, 1))\n",
    "images = np.array(images)\n",
    "images.shape"
   ]
  },
  {
   "cell_type": "code",
   "execution_count": 4,
   "metadata": {},
   "outputs": [
    {
     "data": {
      "text/plain": [
       "<matplotlib.image.AxesImage at 0x7f9d2dc181f0>"
      ]
     },
     "execution_count": 4,
     "metadata": {},
     "output_type": "execute_result"
    },
    {
     "data": {
      "image/png": "[encoded data removed]",
      "text/plain": [
       "<Figure size 432x288 with 1 Axes>"
      ]
     },
     "metadata": {
      "needs_background": "light"
     },
     "output_type": "display_data"
    }
   ],
   "source": [
    "plt.imshow(images[9])"
   ]
  },
  {
   "cell_type": "markdown",
   "metadata": {},
   "source": [
    "## Build a model and train"
   ]
  },
  {
   "cell_type": "markdown",
   "metadata": {},
   "source": [
    "> Internally the Convolution layer is actually implimented using a series of sparsely connected layers, i.e. nerve.layers.Dense() where wights have many zeros. If you also find this cool, ask me about it!"
   ]
  },
  {
   "cell_type": "code",
   "execution_count": 13,
   "metadata": {},
   "outputs": [
    {
     "data": {
      "text/plain": [
       "[20]Input((-1, 28, 28, 1))\n",
       "[21]Conv(None, 24, 24, 1)\n",
       "[22]Pool(2, 2)\n",
       "[23]Flatten(144)\n",
       "[24]Dense(48)\n",
       "[25]Sigmoid\n",
       "[26]Dense(10)\n",
       "[27]Softmax"
      ]
     },
     "execution_count": 13,
     "metadata": {},
     "output_type": "execute_result"
    }
   ],
   "source": [
    "cnn = nerve.Network(layers=[\n",
    "    nerve.layers.Input((-1, ims, ims, chn)),\n",
    "    nerve.layers.Conv(kernel_shape=(5,5), n_kernels=1),\n",
    "    nerve.layers.Pool(window_size=(2,2), operation='max'),\n",
    "    nerve.layers.Flatten(),\n",
    "    nerve.layers.Dense(48, bias=True),\n",
    "    nerve.layers.Sigmoid(scale='auto'),\n",
    "    nerve.layers.Dense(10, bias=True),\n",
    "    nerve.layers.Softmax()\n",
    "])\n",
    "loss = nerve.loss.rmse\n",
    "optimizer = nerve.optimizers.GradientDescentOptimizer(0.01)\n",
    "cnn.prepare(loss, optimizer, epochs=1)\n",
    "cnn"
   ]
  },
  {
   "cell_type": "markdown",
   "metadata": {},
   "source": [
    "> Writing a low level custom loop, to figgle with the learning rate based on some condition. This (and many more things) should be possible through callbacks when they are implimented."
   ]
  },
  {
   "cell_type": "code",
   "execution_count": 14,
   "metadata": {
    "scrolled": false
   },
   "outputs": [
    {
     "data": {
      "text/plain": [
       "[<matplotlib.lines.Line2D at 0x7f9d1f26b3d0>]"
      ]
     },
     "execution_count": 14,
     "metadata": {},
     "output_type": "execute_result"
    },
    {
     "data": {
      "image/png": "[encoded data removed]",
      "text/plain": [
       "<Figure size 432x288 with 1 Axes>"
      ]
     },
     "metadata": {
      "needs_background": "light"
     },
     "output_type": "display_data"
    }
   ],
   "source": [
    "e = []\n",
    "for _ in range(200):\n",
    "    errors = cnn.batch(images[:], labels[:])\n",
    "    error = np.concatenate(errors, axis=-1)\n",
    "    if len(e) > 0 and e[-1] - cnn.loss(error) < 1e-5:\n",
    "        cnn.optimizer.l_rate *= 3\n",
    "    e.append(cnn.loss(error))\n",
    "plt.plot(e)"
   ]
  },
  {
   "cell_type": "markdown",
   "metadata": {},
   "source": [
    "Curious on the accuracy of this thing? Ahem.. lets not go there right now 😅"
   ]
  }
 ],
 "metadata": {
  "kernelspec": {
   "display_name": "Python 3",
   "language": "python",
   "name": "python3"
  },
  "language_info": {
   "codemirror_mode": {
    "name": "ipython",
    "version": 3
   },
   "file_extension": ".py",
   "mimetype": "text/x-python",
   "name": "python",
   "nbconvert_exporter": "python",
   "pygments_lexer": "ipython3",
   "version": "3.8.3"
  }
 },
 "nbformat": 4,
 "nbformat_minor": 4
}
