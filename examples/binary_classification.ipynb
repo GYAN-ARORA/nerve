{
 "cells": [
  {
   "cell_type": "markdown",
   "metadata": {},
   "source": [
    "# Binary Classification\n",
    "\n",
    "A group of experiments performing simple binary classification using ***nerve***"
   ]
  },
  {
   "cell_type": "code",
   "execution_count": 1,
   "metadata": {},
   "outputs": [],
   "source": [
    "import nerve\n",
    "import numpy as np\n",
    "import matplotlib.pyplot as plt"
   ]
  },
  {
   "cell_type": "markdown",
   "metadata": {},
   "source": [
    "## Simple Binary Classification"
   ]
  },
  {
   "cell_type": "markdown",
   "metadata": {},
   "source": [
    "Input data. The lower half of inputs is one class and the higher half is another"
   ]
  },
  {
   "cell_type": "code",
   "execution_count": 2,
   "metadata": {},
   "outputs": [
    {
     "name": "stdout",
     "output_type": "stream",
     "text": [
      "Examples of the data points\n",
      "Input    0.316  0.368  0.421  0.474  0.526  0.579  0.632  0.684  \n",
      "Expected 1.000  1.000  1.000  1.000  0.000  0.000  0.000  0.000  \n"
     ]
    }
   ],
   "source": [
    "X = np.array([list(range(20))]).reshape(20, 1)\n",
    "y = np.array([[0]*10 + [1]*10])\n",
    "\n",
    "y = nerve.utils.one_hot(y)\n",
    "X = nerve.utils.scale(X)\n",
    "\n",
    "num_data_points = 4\n",
    "print('Examples of the data points')\n",
    "print((\"Input    \" + \"{:.3f}  \" * num_data_points*2).format(*X[10-num_data_points:10+num_data_points].T[0]))\n",
    "print((\"Expected \" + \"{:.3f}  \" * num_data_points*2).format(*y[10-num_data_points:10+num_data_points].T[0]))"
   ]
  },
  {
   "cell_type": "markdown",
   "metadata": {},
   "source": [
    "Training a ***\"1 X 3 X 4 X 2\"*** network"
   ]
  },
  {
   "cell_type": "code",
   "execution_count": 3,
   "metadata": {},
   "outputs": [
    {
     "data": {
      "text/plain": [
       "[<matplotlib.lines.Line2D at 0x7fd5c67d83a0>]"
      ]
     },
     "execution_count": 3,
     "metadata": {},
     "output_type": "execute_result"
    },
    {
     "data": {
      "image/png": "[encoded data removed]",
      "text/plain": [
       "<Figure size 432x288 with 1 Axes>"
      ]
     },
     "metadata": {
      "needs_background": "light"
     },
     "output_type": "display_data"
    }
   ],
   "source": [
    "network = nerve.Network(layers=[\n",
    "    nerve.layers.Input(1),\n",
    "    nerve.layers.Dense(3, bias=True),\n",
    "    nerve.layers.Dense(4, bias=True),\n",
    "    nerve.layers.Dense(2, bias=True),\n",
    "    nerve.layers.Softmax()\n",
    "])\n",
    "\n",
    "loss = nerve.loss.rmse\n",
    "optimizer = nerve.optimizers.GradientDescentOptimizer(0.01)\n",
    "network.prepare(loss, optimizer, epochs=5000)\n",
    "\n",
    "losses = network.train(X=X, y=y)\n",
    "plt.plot(losses)"
   ]
  },
  {
   "cell_type": "markdown",
   "metadata": {},
   "source": [
    "Testing some predictions"
   ]
  },
  {
   "cell_type": "code",
   "execution_count": 4,
   "metadata": {},
   "outputs": [
    {
     "name": "stdout",
     "output_type": "stream",
     "text": [
      "Probabilities | Actual Classes\n",
      "0.998 | 1\n",
      "0.987 | 1\n",
      "0.837 | 1\n",
      "0.045 | 0\n",
      "0.006 | 0\n",
      "0.002 | 0\n"
     ]
    }
   ],
   "source": [
    "print('Probabilities | Actual Classes')\n",
    "for idx in [0, 3, 7, 14, 17, 19]:\n",
    "    print(\"{:1.3f} | {:1.0f}\".format(network(X[idx].reshape(1,1))[0][0], y[idx][0]))"
   ]
  },
  {
   "cell_type": "code",
   "execution_count": null,
   "metadata": {},
   "outputs": [],
   "source": []
  }
 ],
 "metadata": {
  "kernelspec": {
   "display_name": "Python 3",
   "language": "python",
   "name": "python3"
  },
  "language_info": {
   "codemirror_mode": {
    "name": "ipython",
    "version": 3
   },
   "file_extension": ".py",
   "mimetype": "text/x-python",
   "name": "python",
   "nbconvert_exporter": "python",
   "pygments_lexer": "ipython3",
   "version": "3.8.3"
  }
 },
 "nbformat": 4,
 "nbformat_minor": 4
}
