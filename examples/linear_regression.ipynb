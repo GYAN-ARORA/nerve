{
 "cells": [
  {
   "cell_type": "markdown",
   "metadata": {},
   "source": [
    "# Linear Regression\n",
    "\n",
    "A group of experiments demonstrating linear regression using ***nerve*** based neural networks."
   ]
  },
  {
   "cell_type": "code",
   "execution_count": 1,
   "metadata": {},
   "outputs": [],
   "source": [
    "import nerve\n",
    "import numpy as np\n",
    "import matplotlib.pyplot as plt"
   ]
  },
  {
   "cell_type": "markdown",
   "metadata": {},
   "source": [
    "## Simple Linear Regression"
   ]
  },
  {
   "cell_type": "markdown",
   "metadata": {},
   "source": [
    "The input data. The parameters expected from the model are: **[2.5, 0.3]**"
   ]
  },
  {
   "cell_type": "code",
   "execution_count": 2,
   "metadata": {},
   "outputs": [
    {
     "name": "stdout",
     "output_type": "stream",
     "text": [
      "Examples of the data points\n",
      "Input    0.000  0.053  0.105  0.158  \n",
      "Expected 0.300  0.432  0.563  0.695  \n"
     ]
    }
   ],
   "source": [
    "X = np.array(list(range(20))).reshape(20, 1)\n",
    "X = nerve.utils.scale(X)\n",
    "y = X * 2.5 + 0.3\n",
    "\n",
    "num_data_points = 4\n",
    "print('Examples of the data points')\n",
    "print((\"Input    \" + \"{:.3f}  \" * num_data_points).format(*X[:num_data_points].T[0]))\n",
    "print((\"Expected \" + \"{:.3f}  \" * num_data_points).format(*y[:num_data_points].T[0]))"
   ]
  },
  {
   "cell_type": "markdown",
   "metadata": {},
   "source": [
    "Creating a network"
   ]
  },
  {
   "cell_type": "code",
   "execution_count": 3,
   "metadata": {},
   "outputs": [
    {
     "name": "stdout",
     "output_type": "stream",
     "text": [
      "[1]Input(1)\n",
      "[2]Dense(1)\n"
     ]
    }
   ],
   "source": [
    "network = nerve.Network(\n",
    "    layers=[\n",
    "        nerve.layers.Input(1),\n",
    "        nerve.layers.Dense(1, bias=True),\n",
    "    ]\n",
    ")\n",
    "print(network)"
   ]
  },
  {
   "cell_type": "markdown",
   "metadata": {},
   "source": [
    "The network is initialized with random parameters"
   ]
  },
  {
   "cell_type": "code",
   "execution_count": 4,
   "metadata": {},
   "outputs": [
    {
     "name": "stdout",
     "output_type": "stream",
     "text": [
      "[1]Input []\n",
      "[2]Dense(1) {'_freeze': False, 'weights': array([[0.85731883, 0.58668639]])}\n"
     ]
    }
   ],
   "source": [
    "# TODO: Fix get params print.\n",
    "network.get_params()"
   ]
  },
  {
   "cell_type": "markdown",
   "metadata": {},
   "source": [
    "Enter training preferences into the network"
   ]
  },
  {
   "cell_type": "code",
   "execution_count": 5,
   "metadata": {},
   "outputs": [],
   "source": [
    "loss = nerve.loss.mse\n",
    "optimizer = nerve.optimizers.GradientDescentOptimizer(0.01)\n",
    "network.prepare(loss, optimizer, epochs=1000)"
   ]
  },
  {
   "cell_type": "markdown",
   "metadata": {},
   "source": [
    "Preprocess data and train the network"
   ]
  },
  {
   "cell_type": "code",
   "execution_count": 6,
   "metadata": {},
   "outputs": [
    {
     "name": "stdout",
     "output_type": "stream",
     "text": [
      "CPU times: user 163 ms, sys: 6.22 ms, total: 169 ms\n",
      "Wall time: 199 ms\n"
     ]
    },
    {
     "data": {
      "text/plain": [
       "[<matplotlib.lines.Line2D at 0x7fea348dd0d0>]"
      ]
     },
     "execution_count": 6,
     "metadata": {},
     "output_type": "execute_result"
    },
    {
     "data": {
      "image/png": "[encoded data removed]",
      "text/plain": [
       "<Figure size 432x288 with 1 Axes>"
      ]
     },
     "metadata": {
      "needs_background": "light"
     },
     "output_type": "display_data"
    }
   ],
   "source": [
    "%%time\n",
    "losses = network.train(X=X, y=y)\n",
    "plt.plot(losses)"
   ]
  },
  {
   "cell_type": "markdown",
   "metadata": {},
   "source": [
    "Trained Model Params"
   ]
  },
  {
   "cell_type": "code",
   "execution_count": 7,
   "metadata": {},
   "outputs": [
    {
     "name": "stdout",
     "output_type": "stream",
     "text": [
      "[1]Input []\n",
      "[2]Dense(1) {'_freeze': False, 'weights': array([[2.49999937, 0.30000034]])}\n"
     ]
    }
   ],
   "source": [
    "network.get_params()"
   ]
  },
  {
   "cell_type": "markdown",
   "metadata": {},
   "source": [
    "Making a prediction"
   ]
  },
  {
   "cell_type": "code",
   "execution_count": 8,
   "metadata": {},
   "outputs": [
    {
     "name": "stdout",
     "output_type": "stream",
     "text": [
      "Inp: [0.10526316], Out: [[0.56315817]]\n"
     ]
    }
   ],
   "source": [
    "inp = X[2]\n",
    "out = network(X[2].reshape(1,1))\n",
    "print(f'Inp: {inp}, Out: {out}')"
   ]
  },
  {
   "cell_type": "markdown",
   "metadata": {},
   "source": [
    "#### Result\n",
    "\n",
    "It can be seen that it the model was well trained at about 200 epochs, for 1000 epochs it took < 200 ms (not bad for pure python right?) and we have correctly predicted the network parameters:\n",
    "**[2.499, 0.300]**"
   ]
  },
  {
   "cell_type": "markdown",
   "metadata": {},
   "source": [
    "### Experiment 1 - What happens with relu activation at the end?"
   ]
  },
  {
   "cell_type": "code",
   "execution_count": 9,
   "metadata": {},
   "outputs": [
    {
     "name": "stdout",
     "output_type": "stream",
     "text": [
      "Network Parameteres:\n",
      "[3]Input []\n",
      "[4]Dense(1) {'_freeze': False, 'weights': array([[-0.17312978, -0.11426593]])}\n",
      "[5]Relu []\n"
     ]
    },
    {
     "data": {
      "image/png": "[encoded data removed]",
      "text/plain": [
       "<Figure size 432x288 with 1 Axes>"
      ]
     },
     "metadata": {
      "needs_background": "light"
     },
     "output_type": "display_data"
    }
   ],
   "source": [
    "X = np.array(list(range(20))).reshape(20, 1)\n",
    "X = nerve.utils.scale(X)\n",
    "y = X * -2.5 + 0.3\n",
    "\n",
    "network = nerve.Network(\n",
    "    layers=[\n",
    "        nerve.layers.Input(1),\n",
    "        nerve.layers.Dense(1, bias=True),\n",
    "        nerve.layers.Relu()   # Comment and re-run\n",
    "    ]\n",
    ")\n",
    "\n",
    "loss = nerve.loss.mse\n",
    "optimizer = nerve.optimizers.GradientDescentOptimizer(0.01)\n",
    "network.prepare(loss, optimizer, 1000)\n",
    "\n",
    "losses = network.train(X=X, y=y)\n",
    "plt.plot(losses)\n",
    "\n",
    "print(\"Network Parameteres:\")\n",
    "network.get_params()"
   ]
  },
  {
   "cell_type": "markdown",
   "metadata": {},
   "source": [
    "#### Result\n",
    "\n",
    "We are still able to predict well. Here we have used a -2.5 constant to challenge the Relu layer. And as expected it is not able to train very well. Once the Relu() layer is removed we get our desired result."
   ]
  }
 ],
 "metadata": {
  "kernelspec": {
   "display_name": "Python 3",
   "language": "python",
   "name": "python3"
  },
  "language_info": {
   "codemirror_mode": {
    "name": "ipython",
    "version": 3
   },
   "file_extension": ".py",
   "mimetype": "text/x-python",
   "name": "python",
   "nbconvert_exporter": "python",
   "pygments_lexer": "ipython3",
   "version": "3.8.3"
  }
 },
 "nbformat": 4,
 "nbformat_minor": 4
}
