{
 "cells": [
  {
   "cell_type": "markdown",
   "metadata": {},
   "source": [
    "# Digit Classifictation\n",
    "\n",
    "Another classification example, classifying digits on the MNIST dataset"
   ]
  },
  {
   "cell_type": "code",
   "execution_count": 1,
   "metadata": {},
   "outputs": [],
   "source": [
    "import nerve\n",
    "import numpy as np\n",
    "import pandas as pd\n",
    "import matplotlib.pyplot as plt"
   ]
  },
  {
   "cell_type": "markdown",
   "metadata": {},
   "source": [
    "### Importing data.\n",
    "\n",
    "There are 785 columns in this dataset, the first column says which digit the data belongs to i.e. 0-9, and the rest 784 columns are the values of the pixels of a 28x28 greyscale image ranging from 0-255"
   ]
  },
  {
   "cell_type": "code",
   "execution_count": 2,
   "metadata": {},
   "outputs": [],
   "source": [
    "data = pd.read_csv('train.csv', nrows=20000)\n",
    "labels = data.pop('label')\n",
    "\n",
    "data = data/255 # scaling pixel values to 0-1\n",
    "data = data.values # converting to numpy array\n",
    "labels = labels.values.reshape(-1,1)\n",
    "labels = nerve.utils.one_hot(labels)"
   ]
  },
  {
   "cell_type": "code",
   "execution_count": 3,
   "metadata": {},
   "outputs": [
    {
     "data": {
      "text/plain": [
       "((20000, 784), (20000, 10))"
      ]
     },
     "execution_count": 3,
     "metadata": {},
     "output_type": "execute_result"
    }
   ],
   "source": [
    "data.shape, labels.shape"
   ]
  },
  {
   "cell_type": "markdown",
   "metadata": {},
   "source": [
    "### Creating a network\n",
    "\n",
    "This ideally is an image classification problem and we can use convolution layers here, but MNIST \n",
    "is a simple data set and is known to be well fit just using simple shallow dense networks."
   ]
  },
  {
   "cell_type": "code",
   "execution_count": 4,
   "metadata": {},
   "outputs": [
    {
     "data": {
      "text/plain": [
       "[1]Input(784)\n",
       "[2]Dense(48)\n",
       "[3]Sigmoid\n",
       "[4]Dense(10)\n",
       "[5]Softmax"
      ]
     },
     "execution_count": 4,
     "metadata": {},
     "output_type": "execute_result"
    }
   ],
   "source": [
    "network = nerve.Network(layers=[\n",
    "    nerve.layers.Input(784),\n",
    "    nerve.layers.Dense(48),\n",
    "    nerve.layers.Sigmoid(scale='auto'),  #0.05\n",
    "    nerve.layers.Dense(10),\n",
    "    nerve.layers.Softmax()\n",
    "])\n",
    "network"
   ]
  },
  {
   "cell_type": "code",
   "execution_count": 5,
   "metadata": {},
   "outputs": [],
   "source": [
    "loss = nerve.loss.rmse\n",
    "optimizer = nerve.optimizers.GradientDescentOptimizer(1)\n",
    "network.prepare(loss, optimizer, epochs=1000)"
   ]
  },
  {
   "cell_type": "markdown",
   "metadata": {},
   "source": [
    "### Creating batches of data\n",
    "\n",
    "***nerve*** also provides a data api which has convinient ways to make batches and perform minibatch training."
   ]
  },
  {
   "cell_type": "code",
   "execution_count": 6,
   "metadata": {},
   "outputs": [],
   "source": [
    "dataset = nerve.data.Dataset(data, labels)\n",
    "batches = nerve.data.Batch(dataset, 1000)"
   ]
  },
  {
   "cell_type": "markdown",
   "metadata": {},
   "source": [
    "### Train the network"
   ]
  },
  {
   "cell_type": "code",
   "execution_count": null,
   "metadata": {},
   "outputs": [],
   "source": [
    "%%time\n",
    "loss = network.train(batches)\n",
    "plt.plot(loss)"
   ]
  },
  {
   "cell_type": "markdown",
   "metadata": {},
   "source": [
    "### Calculate accuracy"
   ]
  },
  {
   "cell_type": "code",
   "execution_count": null,
   "metadata": {},
   "outputs": [],
   "source": [
    "predictions =  network(batches.data.X.T)\n",
    "predictions = predictions.argmax(axis=0)\n",
    "(predictions == batches.data.y.argmax(axis=1)).mean()"
   ]
  }
 ],
 "metadata": {
  "kernelspec": {
   "display_name": "Python 3",
   "language": "python",
   "name": "python3"
  },
  "language_info": {
   "codemirror_mode": {
    "name": "ipython",
    "version": 3
   },
   "file_extension": ".py",
   "mimetype": "text/x-python",
   "name": "python",
   "nbconvert_exporter": "python",
   "pygments_lexer": "ipython3",
   "version": "3.8.3"
  }
 },
 "nbformat": 4,
 "nbformat_minor": 4
}
